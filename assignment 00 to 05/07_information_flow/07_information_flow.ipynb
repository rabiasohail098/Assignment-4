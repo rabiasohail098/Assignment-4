{
  "nbformat": 4,
  "nbformat_minor": 0,
  "metadata": {
    "colab": {
      "provenance": []
    },
    "kernelspec": {
      "name": "python3",
      "display_name": "Python 3"
    },
    "language_info": {
      "name": "python"
    }
  },
  "cells": [
    {
      "cell_type": "code",
      "execution_count": 2,
      "metadata": {
        "colab": {
          "base_uri": "https://localhost:8080/"
        },
        "id": "dbMfu-IjJoMs",
        "outputId": "65ddabc6-f3b3-4a9e-e8c1-48b82c60f2d9"
      },
      "outputs": [
        {
          "output_type": "stream",
          "name": "stdout",
          "text": [
            "00_choosing_returns\n",
            "Choose one of the following options: A, B, C\n",
            "Enter your choice: → A\n",
            "You chose option A\n"
          ]
        }
      ],
      "source": [
        "print(\"00_choosing_returns\")\n",
        "\n",
        "def choose_return(option):\n",
        "    if option == \"A\":\n",
        "        return \"You chose option A\"\n",
        "    elif option == \"B\":\n",
        "        return \"You chose option B\"\n",
        "    elif option == \"C\":\n",
        "        return \"You chose option C\"\n",
        "    else:\n",
        "        return \"Invalid option. Please choose A, B, or C.\"\n",
        "\n",
        "def main():\n",
        "    print(\"Choose one of the following options: A, B, C\")\n",
        "    option = input(\"Enter your choice: → \")\n",
        "\n",
        "    result = choose_return(option)\n",
        "    print(result)\n",
        "\n",
        "if __name__ == \"__main__\":\n",
        "    main()\n"
      ]
    },
    {
      "cell_type": "code",
      "source": [
        "print(\"01_greetings\")\n",
        "\n",
        "def greet(name):\n",
        "    return f\"Hello, {name}! Welcome to the program.\"\n",
        "\n",
        "def main():\n",
        "    name = input(\"Please enter your name: → \")\n",
        "    greeting_message = greet(name)\n",
        "    print(greeting_message)\n",
        "\n",
        "if __name__ == \"__main__\":\n",
        "    main()\n"
      ],
      "metadata": {
        "colab": {
          "base_uri": "https://localhost:8080/"
        },
        "id": "KJcU--gXKZ0l",
        "outputId": "a2119b78-a974-41fd-a7d0-25b9364b890b"
      },
      "execution_count": 3,
      "outputs": [
        {
          "output_type": "stream",
          "name": "stdout",
          "text": [
            "01_greetings\n",
            "Please enter your name: → rabia\n",
            "Hello, rabia! Welcome to the program.\n"
          ]
        }
      ]
    },
    {
      "cell_type": "code",
      "source": [
        "print(\"02_in_range\")\n",
        "\n",
        "def is_in_range(number, start, end):\n",
        "    if start <= number <= end:\n",
        "        return True\n",
        "    else:\n",
        "        return False\n",
        "\n",
        "def main():\n",
        "    try:\n",
        "        num = int(input(\"🔢 Enter a number: → \"))\n",
        "        start = int(input(\"Enter the start of the range: → \"))\n",
        "        end = int(input(\"Enter the end of the range: → \"))\n",
        "    except ValueError:\n",
        "        print(\"❌ Please enter valid integers.\")\n",
        "        return\n",
        "\n",
        "    if is_in_range(num, start, end):\n",
        "        print(f\"✅ {num} is within the range of {start} and {end}.\")\n",
        "    else:\n",
        "        print(f\"❌ {num} is not within the range of {start} and {end}.\")\n",
        "\n",
        "if __name__ == \"__main__\":\n",
        "    main()\n"
      ],
      "metadata": {
        "colab": {
          "base_uri": "https://localhost:8080/"
        },
        "id": "3mLvYBFKKjFc",
        "outputId": "a3059426-a08e-4785-951e-2a9749ea7395"
      },
      "execution_count": 6,
      "outputs": [
        {
          "output_type": "stream",
          "name": "stdout",
          "text": [
            "02_in_range\n",
            "🔢 Enter a number: → 34\n",
            "Enter the start of the range: → 4\n",
            "Enter the end of the range: → 54\n",
            "✅ 34 is within the range of 4 and 54.\n"
          ]
        }
      ]
    },
    {
      "cell_type": "code",
      "source": [
        "print(\"03_in_stock\")\n",
        "\n",
        "def is_in_stock(product, stock):\n",
        "    if product in stock and stock[product] > 0:\n",
        "        return True\n",
        "    else:\n",
        "        return False\n",
        "\n",
        "def main():\n",
        "    stock = {\n",
        "        \"apple\": 10,\n",
        "        \"banana\": 0,\n",
        "        \"orange\": 5,\n",
        "        \"grapes\": 2\n",
        "    }\n",
        "\n",
        "    product = input(\"Enter the product name to check its stock: → \").lower()\n",
        "\n",
        "    if is_in_stock(product, stock):\n",
        "        print(f\"✅ {product.capitalize()} is in stock!\")\n",
        "    else:\n",
        "        print(f\"❌ {product.capitalize()} is not in stock.\")\n",
        "\n",
        "if __name__ == \"__main__\":\n",
        "    main()\n"
      ],
      "metadata": {
        "colab": {
          "base_uri": "https://localhost:8080/"
        },
        "id": "E2NU3tU5K4OI",
        "outputId": "1f970be7-cdd3-4322-c247-35d52f0540fa"
      },
      "execution_count": 7,
      "outputs": [
        {
          "output_type": "stream",
          "name": "stdout",
          "text": [
            "03_in_stock\n",
            "Enter the product name to check its stock: → apple\n",
            "✅ Apple is in stock!\n"
          ]
        }
      ]
    },
    {
      "cell_type": "code",
      "source": [
        "print(\"04_multiple_returns\")\n",
        "\n",
        "import math\n",
        "\n",
        "def analyze_number(number):\n",
        "    square = number ** 2\n",
        "    cube = number ** 3\n",
        "    square_root = math.sqrt(number)\n",
        "\n",
        "    return square, cube, square_root\n",
        "\n",
        "def main():\n",
        "    try:\n",
        "        num = float(input(\"🔢 Enter a number: → \"))\n",
        "    except ValueError:\n",
        "        print(\"❌ Please enter a valid number.\")\n",
        "        return\n",
        "\n",
        "    square, cube, square_root = analyze_number(num)\n",
        "\n",
        "    print(f\"✅ The square of {num} is: {square}\")\n",
        "    print(f\"✅ The cube of {num} is: {cube}\")\n",
        "    print(f\"✅ The square root of {num} is: {square_root:.2f}\")\n",
        "\n",
        "if __name__ == \"__main__\":\n",
        "    main()\n"
      ],
      "metadata": {
        "colab": {
          "base_uri": "https://localhost:8080/"
        },
        "id": "B6yxTJ2ALEKI",
        "outputId": "eeb5fad0-7f9d-495e-bcd3-bc840a3ebec4"
      },
      "execution_count": 8,
      "outputs": [
        {
          "output_type": "stream",
          "name": "stdout",
          "text": [
            "04_multiple_returns\n",
            "🔢 Enter a number: → 2\n",
            "✅ The square of 2.0 is: 4.0\n",
            "✅ The cube of 2.0 is: 8.0\n",
            "✅ The square root of 2.0 is: 1.41\n"
          ]
        }
      ]
    },
    {
      "cell_type": "code",
      "source": [
        "print(\"05_subtract_7\")\n",
        "\n",
        "def subtract_seven(number):\n",
        "    return number - 7\n",
        "\n",
        "def main():\n",
        "    try:\n",
        "        num = float(input(\"🔢 Enter a number: → \"))\n",
        "    except ValueError:\n",
        "        print(\"❌ Please enter a valid number.\")\n",
        "        return\n",
        "\n",
        "    result = subtract_seven(num)\n",
        "    print(f\"✅ After subtracting 7, the result is: {result}\")\n",
        "\n",
        "if __name__ == \"__main__\":\n",
        "    main()\n"
      ],
      "metadata": {
        "colab": {
          "base_uri": "https://localhost:8080/"
        },
        "id": "45Y4eFpxLOjF",
        "outputId": "1b795361-4c2b-4d47-eacd-4b908a15a2f0"
      },
      "execution_count": 9,
      "outputs": [
        {
          "output_type": "stream",
          "name": "stdout",
          "text": [
            "05_subtract_7\n",
            "🔢 Enter a number: → 43\n",
            "✅ After subtracting 7, the result is: 36.0\n"
          ]
        }
      ]
    }
  ]
}